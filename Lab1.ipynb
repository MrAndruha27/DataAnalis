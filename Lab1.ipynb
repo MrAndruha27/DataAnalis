{
 "cells": [
  {
   "cell_type": "code",
   "execution_count": 141,
   "id": "11391319-7d5d-4da9-85e9-433d677a9500",
   "metadata": {},
   "outputs": [],
   "source": [
    "import pandas as pd"
   ]
  },
  {
   "cell_type": "code",
   "execution_count": 142,
   "id": "df4735d5-d836-43a7-9cfa-295c41b65182",
   "metadata": {},
   "outputs": [],
   "source": [
    "##Завдання 1## Яку кількість чоловіків (ознака sex) подано в наборі даних UCI Adult Data Set?\n",
    "##Завдання 2## Який середній вік (ознака age) чоловіків?"
   ]
  },
  {
   "cell_type": "code",
   "execution_count": 143,
   "id": "2f807466-59a4-44b0-bbe0-186788f4989b",
   "metadata": {},
   "outputs": [
    {
     "name": "stdout",
     "output_type": "stream",
     "text": [
      "Кількість чоловіків: 21790\n",
      "Середній вік чоловіків: 39.43354749885268\n"
     ]
    }
   ],
   "source": [
    "adult_data_url = 'https://raw.githubusercontent.com/radiukpavlo/intelligent-data-analysis/main/02_assignments/ida_lab-01_adult_pandas/adult.data.csv'\n",
    "\n",
    "data = pd.read_csv(adult_data_url)\n",
    "\n",
    "male_data = data[data['sex'] == 'Male']\n",
    "\n",
    "total_rows_male = male_data.shape[0]\n",
    "print(f\"Кількість чоловіків: {total_rows_male}\")\n",
    "######################################################################################################################################################\n",
    "average_age_for_male = male_data['age'].mean()\n",
    "\n",
    "print(f\"Середній вік чоловіків: {average_age_for_male}\")\n",
    "######################################################################################################################################################"
   ]
  },
  {
   "cell_type": "code",
   "execution_count": 144,
   "id": "c852940e-89ed-4887-9f83-8cebfc9c2a1a",
   "metadata": {},
   "outputs": [],
   "source": [
    "##Завдання 3 ## Яка частка громадян США (у %, ознака native-country) в наборі даних?"
   ]
  },
  {
   "cell_type": "code",
   "execution_count": 164,
   "id": "a314bcc6-0321-4b02-98ee-6067f956fe09",
   "metadata": {},
   "outputs": [
    {
     "name": "stdout",
     "output_type": "stream",
     "text": [
      "Частка рядків людей які живуть в США: 89.59%\n"
     ]
    }
   ],
   "source": [
    "us_data = data[data['native-country'] == 'United-States'] #Сша\n",
    "\n",
    "total_rows = data.shape[0]        #Загал кл\n",
    "\n",
    "us_rows = us_data.shape[0]        #Сша кл\n",
    "\n",
    "percentage_us = (us_rows / total_rows) * 100  #Часта\n",
    "\n",
    "print(f\"Частка рядків людей які живуть в США: {percentage_us:.2f}%\")\n"
   ]
  },
  {
   "cell_type": "code",
   "execution_count": 146,
   "id": "398e3632-fda1-49b8-8c25-84f34ac3ea09",
   "metadata": {},
   "outputs": [],
   "source": [
    "##Завдання 4## Яке середнє значення і середньоквадратичне відхилення віку тих, хто отримує зарплату більше 50K на рік (ознака salary)?"
   ]
  },
  {
   "cell_type": "code",
   "execution_count": 147,
   "id": "8befb1e8-085c-422b-adf9-8ceba97e5e22",
   "metadata": {},
   "outputs": [
    {
     "name": "stdout",
     "output_type": "stream",
     "text": [
      "Середнє значення віку для зарплати >50K: 44.24984058155847\n",
      "Середньоквадратичне відхилення віку для зарплати >50K: 10.51902771985177\n"
     ]
    }
   ],
   "source": [
    "filtered_data = data[data['salary'] == '>50K']\n",
    "\n",
    "average_age = filtered_data['age'].mean()\n",
    "std_deviation_age = filtered_data['age'].std()\n",
    "\n",
    "print(\"Середнє значення віку для зарплати >50K:\", average_age)\n",
    "print(\"Середньоквадратичне відхилення віку для зарплати >50K:\", std_deviation_age)\n"
   ]
  },
  {
   "cell_type": "code",
   "execution_count": 148,
   "id": "b1538184-1a40-482d-8169-f60c28e3d1f0",
   "metadata": {},
   "outputs": [],
   "source": [
    "## Завдання 5 ## Яка частка людей, що подані в наборі даних, має вік в діапазоні [30; 50) років?"
   ]
  },
  {
   "cell_type": "code",
   "execution_count": 149,
   "id": "7ed6e472-399b-4464-b616-91510982d695",
   "metadata": {},
   "outputs": [
    {
     "name": "stdout",
     "output_type": "stream",
     "text": [
      "Частка рядків з віком від 30 до 50 років: 48.49%\n"
     ]
    }
   ],
   "source": [
    "age_range_data = data[(data['age'] >= 30) & (data['age'] < 50)] ## 30 включно і до 50\n",
    "\n",
    "total_rows_age_range = age_range_data.shape[0] ## Заг кількість мого діапазону\n",
    "\n",
    "percentage_age_range = (total_rows_age_range / total_rows) * 100\n",
    "\n",
    "print(f\"Частка рядків з віком від 30 до 50 років: {percentage_age_range:.2f}%\")\n"
   ]
  },
  {
   "cell_type": "code",
   "execution_count": 150,
   "id": "cf740cde-976c-4f69-9530-31db72092435",
   "metadata": {},
   "outputs": [],
   "source": [
    "## Завдання 6 ## Скільки людей, що отримують <=50K, мають вищу освіту?"
   ]
  },
  {
   "cell_type": "code",
   "execution_count": 171,
   "id": "02d0253b-7238-49ff-9ab1-3d33a01951db",
   "metadata": {},
   "outputs": [
    {
     "name": "stdout",
     "output_type": "stream",
     "text": [
      "Зарплата менше 50к і є вища освіта: 3134\n"
     ]
    }
   ],
   "source": [
    "salary_data=data[data['salary'] == '<=50K']\n",
    "\n",
    "salary_data=salary_data[salary_data['education']=='Bachelors']\n",
    "salary_7=salary_data.shape[0]\n",
    "\n",
    "print(f\"Зарплата менше 50к і є вища освіта: {salary_7}\")"
   ]
  },
  {
   "cell_type": "code",
   "execution_count": 152,
   "id": "a2cd91ae-3eb0-4f33-bd02-794caefca3e2",
   "metadata": {},
   "outputs": [],
   "source": [
    "## Завдання 7 ## Виведіть статистику віку для кожної раси (ознака race) та кожної статі (ознака sex). Використовуйте groupby і describe.Знайдіть у такий спосіб максимальний вік чоловіків раси Black."
   ]
  },
  {
   "cell_type": "code",
   "execution_count": 162,
   "id": "52b1e2c9-cb0e-4d78-92f1-6d5a43d6148a",
   "metadata": {},
   "outputs": [
    {
     "name": "stdout",
     "output_type": "stream",
     "text": [
      "Відповідь: Максимальний вік чоловіків раси Black: 90.0\n",
      "Відповідь: Максимальний вік чоловіків раси White: 90.0\n",
      "Відповідь: Максимальний вік жінок раси Black: 90.0\n",
      "Відповідь: Максимальний вік жінок раси White: 90.0\n",
      "                             count       mean        std   min   25%   50%  \\\n",
      "race               sex                                                       \n",
      "Amer-Indian-Eskimo Female    119.0  37.117647  13.114991  17.0  27.0  36.0   \n",
      "                   Male      192.0  37.208333  12.049563  17.0  28.0  35.0   \n",
      "Asian-Pac-Islander Female    346.0  35.089595  12.300845  17.0  25.0  33.0   \n",
      "                   Male      693.0  39.073593  12.883944  18.0  29.0  37.0   \n",
      "Black              Female   1555.0  37.854019  12.637197  17.0  28.0  37.0   \n",
      "                   Male     1569.0  37.682600  12.882612  17.0  27.0  36.0   \n",
      "Other              Female    109.0  31.678899  11.631599  17.0  23.0  29.0   \n",
      "                   Male      162.0  34.654321  11.355531  17.0  26.0  32.0   \n",
      "White              Female   8642.0  36.811618  14.329093  17.0  25.0  35.0   \n",
      "                   Male    19174.0  39.652498  13.436029  17.0  29.0  38.0   \n",
      "\n",
      "                             75%   max  \n",
      "race               sex                  \n",
      "Amer-Indian-Eskimo Female  46.00  80.0  \n",
      "                   Male    45.00  82.0  \n",
      "Asian-Pac-Islander Female  43.75  75.0  \n",
      "                   Male    46.00  90.0  \n",
      "Black              Female  46.00  90.0  \n",
      "                   Male    46.00  90.0  \n",
      "Other              Female  39.00  74.0  \n",
      "                   Male    42.00  77.0  \n",
      "White              Female  46.00  90.0  \n",
      "                   Male    49.00  90.0  \n"
     ]
    }
   ],
   "source": [
    "age_stats_by_race_sex = data.groupby(['race', 'sex'])['age'].describe()\n",
    "max_age_black_males = age_stats_by_race_sex.loc[('Black', 'Male')]['max']\n",
    "max_age_white_males = age_stats_by_race_sex.loc[('White', 'Male')]['max']\n",
    "max_age_black_famales = age_stats_by_race_sex.loc[('Black', 'Female')]['max']\n",
    "max_age_white_famales = age_stats_by_race_sex.loc[('White', 'Female')]['max']\n",
    "print(f\"Відповідь: Максимальний вік чоловіків раси Black: {max_age_black_males}\")\n",
    "print(f\"Відповідь: Максимальний вік чоловіків раси White: {max_age_white_males}\")\n",
    "print(f\"Відповідь: Максимальний вік жінок раси Black: {max_age_black_famales}\")\n",
    "print(f\"Відповідь: Максимальний вік жінок раси White: {max_age_white_famales}\")\n",
    "print(age_statistics)"
   ]
  },
  {
   "cell_type": "code",
   "execution_count": 154,
   "id": "06d629b0-04c3-45c9-b538-9bf61eae2192",
   "metadata": {},
   "outputs": [],
   "source": [
    "## Завдання 8 ## Представники якої професії заробляють більше (>50K) (ознака occupation)?"
   ]
  },
  {
   "cell_type": "code",
   "execution_count": 155,
   "id": "d6d6969b-6377-4cba-ac02-14b85f01d6c2",
   "metadata": {},
   "outputs": [
    {
     "name": "stdout",
     "output_type": "stream",
     "text": [
      "Представники наступних професій заробляють більше ніж 50K:\n",
      "Exec-managerial\n",
      "Prof-specialty\n",
      "Craft-repair\n",
      "Tech-support\n",
      "?\n",
      "Sales\n",
      "Adm-clerical\n",
      "Protective-serv\n",
      "Other-service\n",
      "Machine-op-inspct\n",
      "Farming-fishing\n",
      "Transport-moving\n",
      "Handlers-cleaners\n",
      "Armed-Forces\n",
      "Priv-house-serv\n"
     ]
    }
   ],
   "source": [
    "high_salary_data = data[data['salary'] == '>50K']\n",
    "\n",
    "unique_occupations = high_salary_data['occupation'].unique()\n",
    "\n",
    "print(\"Представники наступних професій заробляють більше ніж 50K:\")\n",
    "for occupation in unique_occupations:\n",
    "    print(occupation)\n"
   ]
  },
  {
   "cell_type": "code",
   "execution_count": 156,
   "id": "79eeea29-e51f-4c92-b912-2646342e8d0a",
   "metadata": {},
   "outputs": [],
   "source": [
    "## Завдання 9 ##обрахуйте мінімальну та максимальну кількість робочих годин (ознака hours-per-week*).Скільки людей працюють мінімальну кількість годин і який поміж них відсоток заробляє багато (>50K)?"
   ]
  },
  {
   "cell_type": "code",
   "execution_count": 157,
   "id": "414bc3cb-5f2c-4a32-a8ed-cfdb2a6a34b3",
   "metadata": {},
   "outputs": [
    {
     "name": "stdout",
     "output_type": "stream",
     "text": [
      "Відповідь №1:Людей, які працюють мінімальну кількість годин (1 год/тиждень): 20\n",
      "Відповідь №2: Людей, які працюють максимальну кількість годин (99 год/тиждень): 85\n",
      "Відповідь №3: Відсоток тих, хто заробляє більше 50K серед тих, хто працює мінімальну кількість годин: 10.00%\n",
      "Відповідь №4: Відсоток тих, хто заробляє більше 50K серед тих, хто працює максимальну кількість годин: 29.41%\n"
     ]
    }
   ],
   "source": [
    "min_hours_per_week = data['hours-per-week'].min()\n",
    "max_hours_per_week = data['hours-per-week'].max()\n",
    "min_hours_group = data[data['hours-per-week'] == min_hours_per_week]\n",
    "max_hours_group = data[data['hours-per-week'] == max_hours_per_week]\n",
    "high_income_min_hours = (min_hours_group[min_hours_group['salary'] == '>50K']).shape[0]\n",
    "high_income_max_hours = (max_hours_group[max_hours_group['salary'] == '>50K']).shape[0]\n",
    "percentage_high_income_min_hours = (high_income_min_hours / len(min_hours_group)) * 100\n",
    "percentage_high_income_max_hours = (high_income_max_hours / len(max_hours_group)) * 100\n",
    "print(\"Відповідь №1:Людей, які працюють мінімальну кількість годин ({0} год/тиждень): {1}\".format(min_hours_per_week, len(min_hours_group)))\n",
    "print(\"Відповідь №2: Людей, які працюють максимальну кількість годин ({0} год/тиждень): {1}\".format(max_hours_per_week, len(max_hours_group)))\n",
    "print(\"Відповідь №3: Відсоток тих, хто заробляє більше 50K серед тих, хто працює мінімальну кількість годин: {:.2f}%\".format(percentage_high_income_min_hours))\n",
    "print(\"Відповідь №4: Відсоток тих, хто заробляє більше 50K серед тих, хто працює максимальну кількість годин: {:.2f}%\".format(percentage_high_income_max_hours))"
   ]
  },
  {
   "cell_type": "code",
   "execution_count": 158,
   "id": "b4ee853f-2fe8-45e2-86f4-398eb114ef5f",
   "metadata": {},
   "outputs": [],
   "source": [
    "##Завдання 10## Обрахуйте середній час роботи (hours-per-week) тих людей, хто заробляє мало і багато (salary) для обох статей (sex)."
   ]
  },
  {
   "cell_type": "code",
   "execution_count": 160,
   "id": "25b42c76-8547-4561-b9ec-34dd9ec5a80e",
   "metadata": {},
   "outputs": [
    {
     "name": "stdout",
     "output_type": "stream",
     "text": [
      "Відповідь: Середній час роботи для кожної комбінації статі та заробітку:\n",
      "      sex salary  hours-per-week\n",
      "0  Female  <=50K       35.916701\n",
      "1  Female   >50K       40.426633\n",
      "2    Male  <=50K       40.693879\n",
      "3    Male   >50K       46.366106\n"
     ]
    }
   ],
   "source": [
    "import pandas as pd\n",
    "\n",
    "adult_data_url = 'https://raw.githubusercontent.com/radiukpavlo/intelligent-data-analysis/main/02_assignments/ida_lab-01_adult_pandas/adult.data.csv'\n",
    "\n",
    "data = pd.read_csv(adult_data_url)\n",
    "\n",
    "\n",
    "average_hours_per_week = data.groupby(['sex', 'salary'])['hours-per-week'].mean().reset_index()\n",
    "print(\"Відповідь: Середній час роботи для кожної комбінації статі та заробітку:\")\n",
    "print(average_hours_per_week)"
   ]
  },
  {
   "cell_type": "code",
   "execution_count": null,
   "id": "870b5ada-f92c-499a-9eae-3aaafdd9dcb2",
   "metadata": {},
   "outputs": [],
   "source": []
  },
  {
   "cell_type": "code",
   "execution_count": null,
   "id": "d9e3a492-4e08-4dce-9a19-93e1f47d38a5",
   "metadata": {},
   "outputs": [],
   "source": []
  },
  {
   "cell_type": "code",
   "execution_count": null,
   "id": "462f29fe-de83-4f6d-bc93-7f89e66987ec",
   "metadata": {},
   "outputs": [],
   "source": []
  }
 ],
 "metadata": {
  "kernelspec": {
   "display_name": "Python 3 (ipykernel)",
   "language": "python",
   "name": "python3"
  },
  "language_info": {
   "codemirror_mode": {
    "name": "ipython",
    "version": 3
   },
   "file_extension": ".py",
   "mimetype": "text/x-python",
   "name": "python",
   "nbconvert_exporter": "python",
   "pygments_lexer": "ipython3",
   "version": "3.9.7"
  }
 },
 "nbformat": 4,
 "nbformat_minor": 5
}
